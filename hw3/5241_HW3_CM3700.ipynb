{
 "cells": [
  {
   "cell_type": "code",
   "execution_count": 1,
   "metadata": {},
   "outputs": [],
   "source": [
    "import numpy as np\n",
    "import pandas as pd\n",
    "import matplotlib.pyplot as plt\n",
    "from sklearn.model_selection import train_test_split, GridSearchCV,StratifiedKFold\n",
    "from sklearn import svm\n",
    "from sklearn.metrics import make_scorer\n",
    "from math import log\n",
    "import warnings\n",
    "warnings.filterwarnings(\"ignore\")"
   ]
  },
  {
   "cell_type": "code",
   "execution_count": 2,
   "metadata": {},
   "outputs": [],
   "source": [
    "df5 = pd.read_csv(\"https://raw.githubusercontent.com/chima222/5241-Statistical-machine-learning/master/hw3/train.5.txt\",sep = \",\",header = None)\n",
    "df6 = pd.read_csv(\"https://raw.githubusercontent.com/chima222/5241-Statistical-machine-learning/master/hw3/train.6.txt\",sep = \",\",header = None)"
   ]
  },
  {
   "cell_type": "code",
   "execution_count": 3,
   "metadata": {},
   "outputs": [
    {
     "data": {
      "image/png": "[encoded data removed]",
      "text/plain": [
       "<matplotlib.figure.Figure at 0x107e24f60>"
      ]
     },
     "metadata": {},
     "output_type": "display_data"
    }
   ],
   "source": [
    "#plot a random data point\n",
    "data_point = df6.iloc[9:10,]\n",
    "d1 = data_point.as_matrix()\n",
    "d1_reshaped = np.reshape(d1,(16,16))\n",
    "\n",
    "fig = plt.figure()\n",
    "ax = fig.add_subplot(1,1,1)\n",
    "ax.set_aspect(\"equal\")\n",
    "plt.imshow(d1_reshaped,interpolation = \"nearest\",cmap=plt.cm.ocean)\n",
    "plt.colorbar()\n",
    "plt.show()"
   ]
  },
  {
   "cell_type": "code",
   "execution_count": 4,
   "metadata": {},
   "outputs": [],
   "source": [
    "#Add data set and split test = 0.2\n",
    "df = pd.concat((df5,df6))\n",
    "df = np.array(df)\n",
    "y_array = np.append([np.repeat(-1,len(df5))],[np.repeat(1,len(df6))])\n",
    "x_train,x_test,y_train,y_test = train_test_split(df,y_array,test_size = 0.2,random_state = 1)"
   ]
  },
  {
   "cell_type": "markdown",
   "metadata": {},
   "source": [
    "# P1 Linear SVM"
   ]
  },
  {
   "cell_type": "markdown",
   "metadata": {},
   "source": [
    "Build missclassification rate function"
   ]
  },
  {
   "cell_type": "code",
   "execution_count": 5,
   "metadata": {},
   "outputs": [],
   "source": [
    "def misclassification_rate(y_true, y_pred):\n",
    "    error = sum(y_true != y_pred)/len(y_true)\n",
    "    return(error)"
   ]
  },
  {
   "cell_type": "markdown",
   "metadata": {},
   "source": [
    "Set paramters"
   ]
  },
  {
   "cell_type": "code",
   "execution_count": 6,
   "metadata": {},
   "outputs": [],
   "source": [
    "svm_error = make_scorer(misclassification_rate,greater_is_better = False)\n",
    "C_arr = np.logspace(-4,3,8)\n",
    "param_grid = {\"C\": C_arr}\n",
    "cross_validation = StratifiedKFold(5)\n"
   ]
  },
  {
   "cell_type": "markdown",
   "metadata": {},
   "source": [
    "Run models & Give results"
   ]
  },
  {
   "cell_type": "code",
   "execution_count": 7,
   "metadata": {},
   "outputs": [],
   "source": [
    "gs = GridSearchCV(svm.SVC(kernel = \"linear\"), \n",
    "                   scoring = svm_error, \n",
    "                   param_grid = param_grid, \n",
    "                   cv = cross_validation)\n",
    "                   \n",
    "gs.fit(x_train,y_train)\n",
    "                   \n",
    "best_c = gs.best_params_\n",
    "lowest_score = gs.best_score_"
   ]
  },
  {
   "cell_type": "code",
   "execution_count": 8,
   "metadata": {},
   "outputs": [
    {
     "name": "stdout",
     "output_type": "stream",
     "text": [
      "Best parameter: {'C': 0.01}\n",
      "Lowest misclassification rate: 0.018442622950819672\n"
     ]
    }
   ],
   "source": [
    "print(\"Best parameter: {}\".format(best_c))\n",
    "print(\"Lowest misclassification rate: {}\".format(lowest_score*-1))"
   ]
  },
  {
   "cell_type": "markdown",
   "metadata": {},
   "source": [
    "Plot missclassification rate / C"
   ]
  },
  {
   "cell_type": "code",
   "execution_count": 9,
   "metadata": {},
   "outputs": [
    {
     "data": {
      "image/png": "[encoded data removed]",
      "text/plain": [
       "<matplotlib.figure.Figure at 0x10cd43eb8>"
      ]
     },
     "metadata": {},
     "output_type": "display_data"
    }
   ],
   "source": [
    "scores = [-x[1] for x in gs.grid_scores_]\n",
    "log_C = [log(y,10) for y in C_arr]\n",
    "\n",
    "plt.figure(figsize=(8,5))\n",
    "plt.plot(log_C,scores)\n",
    "plt.xlabel(\"log C\")\n",
    "plt.ylabel(\"Missclassification rate\")\n",
    "plt.title(\"CV for Cost Parameter\")\n",
    "plt.show()"
   ]
  },
  {
   "cell_type": "markdown",
   "metadata": {},
   "source": [
    "# P1 RBF SVM"
   ]
  },
  {
   "cell_type": "code",
   "execution_count": 10,
   "metadata": {},
   "outputs": [],
   "source": [
    "gammas = [0.1,0.01,0.0001,0.00001,0.000001]\n",
    "param_grid2 = {\"C\": C_arr, \"gamma\" : gammas}\n",
    "\n",
    "gs2 = GridSearchCV(svm.SVC(kernel = \"rbf\"),\n",
    "                   param_grid = param_grid2,\n",
    "                   cv = cross_validation, \n",
    "                   scoring = svm_error)\n",
    "\n",
    "gs2.fit(x_train,y_train)\n",
    "\n",
    "best_parameters = gs2.best_params_\n",
    "lowest_score2 = gs2.best_score_"
   ]
  },
  {
   "cell_type": "code",
   "execution_count": 11,
   "metadata": {},
   "outputs": [
    {
     "name": "stdout",
     "output_type": "stream",
     "text": [
      "Best parameter: {'C': 10.0, 'gamma': 0.01}\n",
      "Lowest misclassification rate: 0.006147540983606556\n"
     ]
    }
   ],
   "source": [
    "print(\"Best parameter: {}\".format(best_parameters))\n",
    "print(\"Lowest misclassification rate: {}\".format(lowest_score2*-1))"
   ]
  },
  {
   "cell_type": "code",
   "execution_count": 12,
   "metadata": {},
   "outputs": [],
   "source": [
    "scores = [-x[1] for x in gs2.grid_scores_]\n",
    "scores_heatmap = np.reshape(scores, (5,8), order = \"f\")"
   ]
  },
  {
   "cell_type": "code",
   "execution_count": 13,
   "metadata": {},
   "outputs": [
    {
     "data": {
      "image/png": "[encoded data removed]",
      "text/plain": [
       "<matplotlib.figure.Figure at 0x105f187f0>"
      ]
     },
     "metadata": {},
     "output_type": "display_data"
    }
   ],
   "source": [
    "plt.figure(figsize = (10,5))\n",
    "plt.imshow(scores_heatmap)\n",
    "plt.xlabel(\"C\")\n",
    "plt.ylabel(\"gamma\")\n",
    "plt.title (\"Score heatmap\")\n",
    "plt.xticks(np.arange(len(C_arr)),C_arr)\n",
    "plt.yticks(np.arange(len(gammas)),gammas)\n",
    "plt.colorbar()\n",
    "plt.show()"
   ]
  },
  {
   "cell_type": "markdown",
   "metadata": {},
   "source": [
    "# P2 Linear SVM"
   ]
  },
  {
   "cell_type": "code",
   "execution_count": 14,
   "metadata": {},
   "outputs": [
    {
     "name": "stdout",
     "output_type": "stream",
     "text": [
      "Best parameter: {'C': 0.01}\n",
      "Lowest misclassification rate: 0.02459016393442623\n"
     ]
    }
   ],
   "source": [
    "clf_best = svm.SVC(kernel = \"linear\" , C = best_c[\"C\"])\n",
    "\n",
    "clf_best.fit(x_train,y_train)\n",
    "y_predict_test = clf_best.predict(x_test)\n",
    "\n",
    "errors = sum(y_predict_test!=y_test)/len(y_test)\n",
    "print(\"Best parameter: {}\".format(best_c))\n",
    "print(\"Lowest misclassification rate: {}\".format(errors))"
   ]
  },
  {
   "cell_type": "markdown",
   "metadata": {},
   "source": [
    "# P2 RBF Kernel"
   ]
  },
  {
   "cell_type": "code",
   "execution_count": 15,
   "metadata": {},
   "outputs": [
    {
     "name": "stdout",
     "output_type": "stream",
     "text": [
      "Best parameter: {'C': 10.0, 'gamma': 0.01}\n",
      "Lowest misclassification rate: 0.012295081967213115\n"
     ]
    }
   ],
   "source": [
    "best_c2 = best_parameters[\"C\"]\n",
    "best_gamma = best_parameters[\"gamma\"]\n",
    "\n",
    "clf2_best = svm.SVC(kernel = \"rbf\",C = best_c2, gamma = best_gamma)\n",
    "clf2_best.fit(x_train,y_train)\n",
    "y_predict_rbf = clf2_best.predict(x_test)\n",
    "\n",
    "errors2 = sum(y_predict_rbf != y_test)/len(y_test)\n",
    "\n",
    "print(\"Best parameter: {}\".format(best_parameters))\n",
    "print(\"Lowest misclassification rate: {}\".format(errors2))"
   ]
  },
  {
   "cell_type": "markdown",
   "metadata": {},
   "source": [
    "# Summary"
   ]
  },
  {
   "cell_type": "markdown",
   "metadata": {},
   "source": [
    "Linear SVM:\n",
    "\n",
    "C: 0.01\n",
    "\n",
    "Misclassification rate: 0.02459\n",
    "\n",
    "RBF kernel SVM:\n",
    "\n",
    "C:10.0\n",
    "\n",
    "gamma: 0.01\n",
    "\n",
    "Misclassification rate:0.012295\n",
    "\n",
    "SVM with RBF has a better performance than Linear SVM\n",
    "                "
   ]
  },
  {
   "cell_type": "code",
   "execution_count": null,
   "metadata": {},
   "outputs": [],
   "source": []
  },
  {
   "cell_type": "code",
   "execution_count": null,
   "metadata": {},
   "outputs": [],
   "source": []
  }
 ],
 "metadata": {
  "kernelspec": {
   "display_name": "Python 3",
   "language": "python",
   "name": "python3"
  },
  "language_info": {
   "codemirror_mode": {
    "name": "ipython",
    "version": 3
   },
   "file_extension": ".py",
   "mimetype": "text/x-python",
   "name": "python",
   "nbconvert_exporter": "python",
   "pygments_lexer": "ipython3",
   "version": "3.6.3"
  }
 },
 "nbformat": 4,
 "nbformat_minor": 2
}
