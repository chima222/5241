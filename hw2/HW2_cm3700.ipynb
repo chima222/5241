{
 "cells": [
  {
   "cell_type": "markdown",
   "metadata": {},
   "source": [
    "# 5241_HW2_cm3700"
   ]
  },
  {
   "cell_type": "markdown",
   "metadata": {},
   "source": [
    "1. LDA on the original 256 dimensional space."
   ]
  },
  {
   "cell_type": "code",
   "execution_count": 31,
   "metadata": {
    "collapsed": true
   },
   "outputs": [],
   "source": [
    "import numpy as np\n",
    "import pandas as pd\n",
    "import matplotlib.pyplot as plt\n",
    "import sklearn\n",
    "from matplotlib import colors\n",
    "from sklearn.discriminant_analysis import LinearDiscriminantAnalysis\n",
    "from sklearn.decomposition import PCA\n",
    "from sklearn.preprocessing import scale\n",
    "from sklearn.linear_model import LogisticRegression"
   ]
  },
  {
   "cell_type": "code",
   "execution_count": 32,
   "metadata": {
    "collapsed": true
   },
   "outputs": [],
   "source": [
    "df3 = np.loadtxt(\"/Users/chi/Desktop/5241/hw/hw2/train_3.txt\",delimiter=',')\n",
    "df5 = np.loadtxt(\"/Users/chi/Desktop/5241/hw/hw2/train_5.txt\",delimiter=',')\n",
    "df8 = np.loadtxt(\"/Users/chi/Desktop/5241/hw/hw2/train_8.txt\",delimiter=',')\n",
    "dft = np.loadtxt(\"/Users/chi/Desktop/5241/hw/hw2/zip_test.txt\",delimiter=' ')\n",
    "\n",
    "#train data prep\n",
    "\n",
    "xtrain = np.vstack([df3,df5,df8])\n",
    "yarray = np.array([3,5,8])\n",
    "ytrain = np.repeat(yarray,[df3.shape[0],df5.shape[0],df8.shape[0]],axis=0)\n",
    "\n",
    "#test data prep\n",
    "ytest = dft[:,0]\n",
    "xtest = dft[:,1:]\n",
    "xtest = xtest[(ytest == 3)|(ytest == 5)|(ytest == 8),:]\n",
    "ytest = ytest[(ytest == 3)|(ytest == 5)|(ytest == 8)]\n",
    "\n"
   ]
  },
  {
   "cell_type": "code",
   "execution_count": 33,
   "metadata": {},
   "outputs": [
    {
     "data": {
      "text/plain": [
       "0.015945330296127564"
      ]
     },
     "execution_count": 33,
     "metadata": {},
     "output_type": "execute_result"
    }
   ],
   "source": [
    "#train dataset error rate\n",
    "lda = LinearDiscriminantAnalysis(solver = \"svd\")\n",
    "lda.fit(xtrain,ytrain)\n",
    "sum(lda.predict(xtrain)!=ytrain)/ytrain.size"
   ]
  },
  {
   "cell_type": "code",
   "execution_count": 34,
   "metadata": {
    "scrolled": true
   },
   "outputs": [
    {
     "data": {
      "text/plain": [
       "0.087398373983739841"
      ]
     },
     "execution_count": 34,
     "metadata": {},
     "output_type": "execute_result"
    }
   ],
   "source": [
    "#test dataset error rate\n",
    "sum(lda.predict(xtest)!=ytest)/ytest.size"
   ]
  },
  {
   "cell_type": "markdown",
   "metadata": {},
   "source": [
    "2. LDA on the leading 49 principle components of the features."
   ]
  },
  {
   "cell_type": "code",
   "execution_count": 35,
   "metadata": {},
   "outputs": [
    {
     "data": {
      "text/plain": [
       "0.87737140126149915"
      ]
     },
     "execution_count": 35,
     "metadata": {},
     "output_type": "execute_result"
    }
   ],
   "source": [
    "#PCA n=49\n",
    "pca = PCA(n_components = 49,svd_solver = \"full\")\n",
    "xxtrain = scale(xtrain,with_std = False)\n",
    "xxtest = scale(xtest,with_std = False)\n",
    "pca.fit(xxtrain)\n",
    "\n",
    "#transform data\n",
    "train49 = pca.transform(xxtrain)\n",
    "test49 = pca.transform(xxtest)\n",
    "\n",
    "#explained variance ratio\n",
    "sum(pca.explained_variance_ratio_)"
   ]
  },
  {
   "cell_type": "code",
   "execution_count": 36,
   "metadata": {},
   "outputs": [
    {
     "data": {
      "text/plain": [
       "0.043849658314350795"
      ]
     },
     "execution_count": 36,
     "metadata": {},
     "output_type": "execute_result"
    }
   ],
   "source": [
    "#LDA on the leading 49 components for train data\n",
    "lda.fit(train49,ytrain)\n",
    "\n",
    "#Training accuracy\n",
    "sum(lda.predict(train49)!=ytrain)/ytrain.size\n"
   ]
  },
  {
   "cell_type": "code",
   "execution_count": 37,
   "metadata": {},
   "outputs": [
    {
     "data": {
      "text/plain": [
       "0.091463414634146339"
      ]
     },
     "execution_count": 37,
     "metadata": {},
     "output_type": "execute_result"
    }
   ],
   "source": [
    "#test dataset error rate\n",
    "\n",
    "sum(lda.predict(test49)!=ytest)/ytest.size\n"
   ]
  },
  {
   "cell_type": "markdown",
   "metadata": {
    "collapsed": true
   },
   "source": [
    "3. LDA when you filter the data as follows. Each non-overlapping 2 × 2 pixel block is replaced by its average."
   ]
  },
  {
   "cell_type": "code",
   "execution_count": 38,
   "metadata": {
    "collapsed": true
   },
   "outputs": [],
   "source": [
    "#Function to filter data\n",
    "def filterdigit(x):\n",
    "    matrix = np.reshape(x.values,(16,16))\n",
    "    i,j = (2,2)\n",
    "    m,n = matrix.shape\n",
    "    b = matrix.reshape(m//i,i,n//j,j).mean((1,3),keepdims = 1)\n",
    "    average_m = np.repeat(np.repeat(b,(i),axis = (1)),(j),axis = 3).reshape(matrix.shape)\n",
    "    average_r = average_m.flatten()\n",
    "    return(average_r)"
   ]
  },
  {
   "cell_type": "code",
   "execution_count": 39,
   "metadata": {
    "collapsed": true
   },
   "outputs": [],
   "source": [
    "df_train = pd.DataFrame(xtrain)\n",
    "df_test = pd.DataFrame(xtest)"
   ]
  },
  {
   "cell_type": "code",
   "execution_count": 40,
   "metadata": {
    "collapsed": true
   },
   "outputs": [],
   "source": [
    "filter_xtrain = df_train.apply(filterdigit,1).values\n",
    "filter_xtest = df_test.apply(filterdigit,1).values"
   ]
  },
  {
   "cell_type": "code",
   "execution_count": 41,
   "metadata": {},
   "outputs": [
    {
     "name": "stderr",
     "output_type": "stream",
     "text": [
      "/Users/chi/anaconda3/lib/python3.6/site-packages/sklearn/discriminant_analysis.py:388: UserWarning: Variables are collinear.\n",
      "  warnings.warn(\"Variables are collinear.\")\n"
     ]
    },
    {
     "data": {
      "text/plain": [
       "0.033599088838268794"
      ]
     },
     "execution_count": 41,
     "metadata": {},
     "output_type": "execute_result"
    }
   ],
   "source": [
    "lda.fit(filter_xtrain,ytrain)\n",
    "#train set error rate\n",
    "sum(lda.predict(filter_xtrain)!=ytrain)/ytrain.size"
   ]
  },
  {
   "cell_type": "code",
   "execution_count": 42,
   "metadata": {},
   "outputs": [
    {
     "data": {
      "text/plain": [
       "0.075203252032520332"
      ]
     },
     "execution_count": 42,
     "metadata": {},
     "output_type": "execute_result"
    }
   ],
   "source": [
    "#testset error rate\n",
    "sum(lda.predict(filter_xtest)!=ytest)/ytest.size\n"
   ]
  },
  {
   "cell_type": "markdown",
   "metadata": {
    "collapsed": true
   },
   "source": [
    "Multiple linear logistic regression using the same filtered data as in the previous question"
   ]
  },
  {
   "cell_type": "code",
   "execution_count": null,
   "metadata": {},
   "outputs": [],
   "source": [
    "Log = LogisticRegression(multi_class = \"multinomial\",solver = \"newton-cg\")\n",
    "\n",
    "Log.fit(filter_xtrain,ytrain)"
   ]
  },
  {
   "cell_type": "code",
   "execution_count": null,
   "metadata": {},
   "outputs": [],
   "source": [
    "sum(Log.predict(filter_xtrain)!=ytrain)/ytrain.size"
   ]
  },
  {
   "cell_type": "code",
   "execution_count": null,
   "metadata": {},
   "outputs": [],
   "source": [
    "sum(Log.predict(filter_xtest)!=ytest)/ytest.size"
   ]
  },
  {
   "cell_type": "code",
   "execution_count": 16,
   "metadata": {
    "collapsed": true
   },
   "outputs": [],
   "source": [
    "##                                           Trainning    Test\n",
    "## LDA with 256 features                     0.01594533    0.08739837\n",
    "## LDA with 49 components                    0.04384966    0.09146341\n",
    "## LDA with average 2x2 pixel blocks         0.03359909    0.07520325\n",
    "## Multiple Logistic Regression              0.01537584    0.079268292"
   ]
  },
  {
   "cell_type": "code",
   "execution_count": 17,
   "metadata": {
    "collapsed": true
   },
   "outputs": [],
   "source": [
    "## LDA with 256 features has an overfitting problem since it has the lowerst trainning errot but highest test error.\n",
    "## LDA with 49 components has the worst result which means perform PCA before LDA is not very useful.\n",
    "## LDA wirh averafe 2x2 has the best result.\n"
   ]
  }
 ],
 "metadata": {
  "kernelspec": {
   "display_name": "Python 3",
   "language": "python",
   "name": "python3"
  },
  "language_info": {
   "codemirror_mode": {
    "name": "ipython",
    "version": 3
   },
   "file_extension": ".py",
   "mimetype": "text/x-python",
   "name": "python",
   "nbconvert_exporter": "python",
   "pygments_lexer": "ipython3",
   "version": "3.6.3"
  }
 },
 "nbformat": 4,
 "nbformat_minor": 2
}
